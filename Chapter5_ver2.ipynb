{
 "cells": [
  {
   "cell_type": "markdown",
   "metadata": {},
   "source": [
    "# 5 Pythonによる科学計算（NumpyとScipy）"
   ]
  },
  {
   "cell_type": "markdown",
   "metadata": {},
   "source": [
    "＜章トビラ＞\n",
    "\n",
    "5章では、2章で基礎を学んだNumpyとScipyのライブラリについて、これらをさらに使いこなす力を身に付けていきましょう。この5章および次の6章では、データを操作するテクニックが多く登場します。それらのテクニックの必要性は、すぐにはわからないかもしれませんが、総合問題や後半の章で、実際のデータを扱う際にその利点がわかると思います。しっかりと身につけていきましょう。\n",
    "\n",
    "具体的には、5章の前半はNumpyに関する配列操作のテクニック、後半はScipyを使った科学計算の応用で、行列の分解や積分、微分方程式や最適化計算について扱っていきます。\n",
    "\n",
    "\n",
    "ゴール：NumpyやScipyを使ったデータの生成や科学的計算方法の知識を深める"
   ]
  },
  {
   "cell_type": "markdown",
   "metadata": {},
   "source": [
    "- **[5.1 概要と事前準備](#5.1-概要と事前準備)**\n",
    "    - [5.1.1 この章の概要](#5.1.1-この章の概要)\n",
    "    - [5.1.2 この章で使うライブラリのインポート](#5.1.2-この章で使うライブラリのインポート)\n",
    "<br><br>\n",
    "- **[5.2 Numpyを使った計算の応用](#5.2-Numpyを使った計算の応用)**\n",
    "    - [5.2.1 インデックス参照](#5.2.1-インデックス参照)\n",
    "    - [5.2.2 Numpyの演算処理](#5.2.2-Numpyの演算処理)\n",
    "    - [5.2.3 配列操作とブロードキャスト](#5.2.3-配列操作とブロードキャスト)\n",
    "<br><br>\n",
    "- **[5.3 Scipyを使った計算の応用](#5.3-Scipyを使った計算の応用)**\n",
    "    - [5.3.1 補間](#5.3.1-補間)\n",
    "    - [5.3.2 線形代数：行列の分解](#5.3.2-線形代数：行列の分解)\n",
    "    - [5.3.3 積分と微分方程式](#5.3.3-積分と微分方程式)\n",
    "    - [5.3.4 最適化](#5.3.4-最適化)\n",
    "<br><br>\n",
    "- **[5.4 総合問題](#5.4-総合問題)**\n",
    "    - [■総合問題5-1 コレスキー分解](#■総合問題5-1-コレスキー分解)\n",
    "    - [■総合問題5-2 積分](#■総合問題5-2-積分)\n",
    "    - [■総合問題5-3 最適化問題](#■総合問題5-3-最適化問題)"
   ]
  },
  {
   "cell_type": "markdown",
   "metadata": {},
   "source": [
    "***"
   ]
  },
  {
   "cell_type": "markdown",
   "metadata": {},
   "source": [
    "## 5.1 概要と事前準備\n",
    "キーワード：Numpy、Scipy、Matplotlib\n",
    "\n",
    "2章にて、NumpyやScipyを使った科学計算の基礎を学びました。この章では、さらにその知識を深めていきます。"
   ]
  },
  {
   "cell_type": "markdown",
   "metadata": {},
   "source": [
    "### 5.1.1 この章の概要"
   ]
  },
  {
   "cell_type": "markdown",
   "metadata": {},
   "source": [
    "これまで、Pythonの基礎的な文法や、代表的な科学技術計算ライブラリNumpy、Scipyの基本的な使い方を学びました。この章では、これらのライブラリを引き続き使用し、さらに色々な計算テクニックを身に付けていきましょう。"
   ]
  },
  {
   "cell_type": "markdown",
   "metadata": {},
   "source": [
    "Numpyはインデックス参照やブロードキャストについて、Scipyについては線形代数や積分計算、最適化計算について見ていきます。"
   ]
  },
  {
   "cell_type": "markdown",
   "metadata": {},
   "source": [
    "5章と6章は、データを操作するテクニックが多く登場します。最初はそれらのテクニックの必要性をあまり実感できないかと思いますが、各章の総合問題で実際のデータを使って、それらの手法を活用すると、その利点がわかると思います。しっかりと身につけていきましょう。"
   ]
  },
  {
   "cell_type": "markdown",
   "metadata": {},
   "source": [
    "この章の参考文献として、巻末「A-10」をご覧ください。"
   ]
  },
  {
   "cell_type": "markdown",
   "metadata": {},
   "source": [
    "なお、「5.3　Scipy」では、数学的に少し高度なものを扱っています。おそらくこれらは理系の大学3〜4年生までに習うレベルのもので、初見の方はすぐに理解できないかもしれません。後の章ですべてを使うわけではないので、線形代数（行列分解など）、微分方程式、最適化計算（線形計画法）等をまだやっていない方は、詳細は理解できなくても大丈夫です。\n",
    "\n",
    "ここで扱った理由は、これらの分野の理論のみを学んできた人に、科学計算の実装はCや他の言語を使うと大変ですが、Pythonを使えば気軽に実装できることを知ってもらうためです。データサイエンスの現場や研究等で、これらの分野（微分方程式、最適化計算など）を使う必要がでてきた時には、ぜひScipyを使うことを検討してみてください。"
   ]
  },
  {
   "cell_type": "markdown",
   "metadata": {},
   "source": [
    "### 5.1.2 この章で使うライブラリのインポート\n",
    "\n",
    "この章では、2章で紹介した各種ライブラリを使います。次のようにインポートしていることを前提として、以下、進めていきます。以下のインポートでは、NumpyとScipyはもちろんですが、グラフを描くために、一部、Matplotlibも利用します。"
   ]
  },
  {
   "cell_type": "code",
   "execution_count": 1,
   "metadata": {},
   "outputs": [
    {
     "data": {
      "text/plain": [
       "'%.3f'"
      ]
     },
     "execution_count": 1,
     "metadata": {},
     "output_type": "execute_result"
    }
   ],
   "source": [
    "# 以下のライブラリを使うので、あらかじめ読み込んでおいてください\n",
    "import numpy as np\n",
    "import numpy.random as random\n",
    "import scipy as sp\n",
    "\n",
    "# 可視化ライブラリ\n",
    "import matplotlib.pyplot as plt\n",
    "import matplotlib as mpl\n",
    "%matplotlib inline\n",
    "\n",
    "# 小数第3位まで表示\n",
    "%precision 3"
   ]
  },
  {
   "cell_type": "markdown",
   "metadata": {},
   "source": [
    "## 5.2 Numpyを使った計算の応用\n",
    "ゴール：Numpyのインデックス参照やブロードキャストなど、配列に関する応用的な処理を実行できるようになる\n",
    "\n",
    "以前の章でNumpyの使い方について、配列計算など基礎的なことを学びました。ここではさらに、応用的な操作を実施していきます。"
   ]
  },
  {
   "cell_type": "markdown",
   "metadata": {},
   "source": [
    "### 5.2.1 インデックス参照\n",
    "キーワード：インデックス参照、スライス、ビュー"
   ]
  },
  {
   "cell_type": "markdown",
   "metadata": {},
   "source": [
    "まずは、さまざまなデータを参照するときに使うインデックス参照から説明します。以下の説明のため、次のように簡単なデータを用意します。"
   ]
  },
  {
   "cell_type": "code",
   "execution_count": 2,
   "metadata": {
    "scrolled": true
   },
   "outputs": [
    {
     "name": "stdout",
     "output_type": "stream",
     "text": [
      "sample_array: [0 1 2 3 4 5 6 7 8 9]\n"
     ]
    }
   ],
   "source": [
    "# データの準備\n",
    "# 等間隔の数字\n",
    "sample_array = np.arange(10)\n",
    "print('sample_array:',sample_array)"
   ]
  },
  {
   "cell_type": "markdown",
   "metadata": {},
   "source": [
    "上記の結果からわかるように、このデータ`sample_array`は、0から9までの数字（配列）です。このデータの一部を置き換えることを考えます。\n",
    "\n",
    "まずは、次のようにスライスという操作をして、先頭から5つ（`sample_array[0]～sample_array[4]`）を、別の変数である`sample_array_slice`に代入してみます。このとき、`sample_array_slice`の結果は、もちろん、0～4までの配列となります。"
   ]
  },
  {
   "cell_type": "code",
   "execution_count": 3,
   "metadata": {},
   "outputs": [
    {
     "name": "stdout",
     "output_type": "stream",
     "text": [
      "[0 1 2 3 4 5 6 7 8 9]\n",
      "[0 1 2 3 4]\n"
     ]
    }
   ],
   "source": [
    "# 元のデータ\n",
    "print(sample_array)\n",
    "\n",
    "# 前から数字を5つ取得して、sample_array_sliceに入れる（スライス）\n",
    "sample_array_slice = sample_array[0:5]\n",
    "print(sample_array_slice)"
   ]
  },
  {
   "cell_type": "markdown",
   "metadata": {},
   "source": [
    "次に、この新しい変数`sample_array_slice`の先頭から3つ（`sample_array_slice[0]～sample_array_slice[2]`）を、10という値に置き換えます。この結果、`sample_array_slice`は、「10 10 10 3 4」となるのは明らかですが、このとき元の変数である`sample_array`の値も変わっている点に注意してください。"
   ]
  },
  {
   "cell_type": "code",
   "execution_count": 4,
   "metadata": {},
   "outputs": [
    {
     "name": "stdout",
     "output_type": "stream",
     "text": [
      "[10 10 10  3  4]\n",
      "[10 10 10  3  4  5  6  7  8  9]\n"
     ]
    }
   ],
   "source": [
    "# sample_array_sliceの3文字目までは、10で置換\n",
    "sample_array_slice[0:3] = 10\n",
    "print(sample_array_slice)\n",
    "\n",
    "# スライスの変更はオリジナルのリストの要素も変更されていることに注意\n",
    "print(sample_array)"
   ]
  },
  {
   "cell_type": "markdown",
   "metadata": {},
   "source": [
    "#### データのコピー\n",
    "\n",
    "このように代入元の変数の値も変わってしまうのは、コピーではなくて参照が行われているからです。すなわち、「`sample_array_slice = sample_array[0:5]`」という代入の構文は、`sample_array`の先頭から5つを`sample_array_slice`にコピーしているように見えますが、そうではなくて、`sample_array_slice`は、元の`sample_array`の先頭から5つを参照しているだけなのです。そのため、値を変更すると、元の値も変わってしまいます。\n",
    "\n",
    "このような参照ではなくてコピーしたいときは、次のように`copy`を使います。すると、コピーしたものを参照するようになるため、変更しても元のデータは影響を受けません。"
   ]
  },
  {
   "cell_type": "code",
   "execution_count": 5,
   "metadata": {},
   "outputs": [
    {
     "name": "stdout",
     "output_type": "stream",
     "text": [
      "[10 10 10  3  4  5  6  7  8  9]\n",
      "[20 20 20  3  4  5  6  7  8  9]\n",
      "[10 10 10  3  4  5  6  7  8  9]\n"
     ]
    }
   ],
   "source": [
    "# copyして別のobjectを作成\n",
    "sample_array_copy = np.copy(sample_array)\n",
    "print(sample_array_copy)\n",
    "\n",
    "sample_array_copy[0:3] = 20\n",
    "print(sample_array_copy)\n",
    "\n",
    "# 元のリストの要素は変更されていない\n",
    "print(sample_array)"
   ]
  },
  {
   "cell_type": "markdown",
   "metadata": {},
   "source": [
    "#### ブールインデックス参照\n",
    "\n",
    "次に、ブールインデックス参照という機能を見ていきます。これはその名の通り、`bool`（`True`か`False`かの真偽値）によって、どのデータを取り出すかを決める機能です。言葉で説明しても分かりにくいので、以下で具体例を見ていきます。\n",
    "\n",
    "まずは、次のように、`sample_names`と`data`という2つの配列を用意してみます。`sample_names`は、「a」「b」「c」「d」「a」という値を要素として持つ5つの配列、`data`は、標準正規分布に則った5×5のランダムな値を持つ配列です。"
   ]
  },
  {
   "cell_type": "code",
   "execution_count": 6,
   "metadata": {},
   "outputs": [
    {
     "name": "stdout",
     "output_type": "stream",
     "text": [
      "['a' 'b' 'c' 'd' 'a']\n",
      "[[ 1.764  0.4    0.979  2.241  1.868]\n",
      " [-0.977  0.95  -0.151 -0.103  0.411]\n",
      " [ 0.144  1.454  0.761  0.122  0.444]\n",
      " [ 0.334  1.494 -0.205  0.313 -0.854]\n",
      " [-2.553  0.654  0.864 -0.742  2.27 ]]\n"
     ]
    }
   ],
   "source": [
    "# データの準備\n",
    "sample_names = np.array(['a','b','c','d','a'])\n",
    "random.seed(0)\n",
    "data = random.randn(5,5)\n",
    "\n",
    "print(sample_names)\n",
    "print(data)"
   ]
  },
  {
   "cell_type": "markdown",
   "metadata": {},
   "source": [
    "この2つの配列に対して、ブールインデックス参照を使って、`True`か`False`かに基づいて値を取り出してみましょう。\n",
    "まずは、次のように`sample_names`に対して「`=='a'`」を指定します。すると、要素の値が「`'a'`」である部分だけが`True`になる結果を取り出せます。"
   ]
  },
  {
   "cell_type": "code",
   "execution_count": 7,
   "metadata": {},
   "outputs": [
    {
     "data": {
      "text/plain": [
       "array([ True, False, False, False,  True])"
      ]
     },
     "execution_count": 7,
     "metadata": {},
     "output_type": "execute_result"
    }
   ],
   "source": [
    "sample_names == 'a'"
   ]
  },
  {
   "cell_type": "markdown",
   "metadata": {},
   "source": [
    "この結果を、次のように`data`変数の`[]`の中に条件として指定します。すると、`True`になっている箇所のデータだけを取り出せます。この例では、0番目と4番目が`True`なので、0番目と4番目のインデックスのデータが取り出されます。ここでは2次元の配列を操作しているので0番目と4番目の列が取り出されます。これがブールインデックス参照です。"
   ]
  },
  {
   "cell_type": "code",
   "execution_count": 8,
   "metadata": {},
   "outputs": [
    {
     "data": {
      "text/plain": [
       "array([[ 1.764,  0.4  ,  0.979,  2.241,  1.868],\n",
       "       [-2.553,  0.654,  0.864, -0.742,  2.27 ]])"
      ]
     },
     "execution_count": 8,
     "metadata": {},
     "output_type": "execute_result"
    }
   ],
   "source": [
    "data[sample_names == 'a']"
   ]
  },
  {
   "cell_type": "markdown",
   "metadata": {},
   "source": [
    "#### 条件制御\n",
    "\n",
    "`numpy.where`を使うと、2つのデータ$X$とデータ$Y$があるとき、条件を満たすかどうかによって、$X$の要素を取り出す、もしくは$Y$の要素を取り出すというように、取得するデータを切り分けられます。その書式は、次の通りです。\n",
    "\n",
    "`numpy.where(条件の配列, Xのデータ, Yのデータ)`\n",
    "\n",
    "条件の配列が`True`のときは$X$のデータ、そうでなければ$Y$のデータが取り出されます。具体的にやってみましょう。\n",
    "次の例では、条件のデータとして、「`True`、`True`、`False`、`False`、`True`」というデータを指定しています。\n",
    "そして`x_array`は「1, 2, 3, 4, 5」としており、`y_array`は「100, 200, 300, 400, 500」としています。\n",
    "そのため条件のデータが`True`である1番目、2番目、5番目は`x_array`から取り出され、そうでないものは`y_array`から取り出されるので、結果は、「1, 2, 300, 400, 5」のようになります。\n",
    "\n",
    "`numpy.where`処理は、このように条件によって採用するデータを切り分けるときに便利です。\n"
   ]
  },
  {
   "cell_type": "markdown",
   "metadata": {},
   "source": [
    "以下で実際に試してみましょう。"
   ]
  },
  {
   "cell_type": "code",
   "execution_count": 9,
   "metadata": {},
   "outputs": [
    {
     "name": "stdout",
     "output_type": "stream",
     "text": [
      "[  1   2 300 400   5]\n"
     ]
    }
   ],
   "source": [
    "# 条件制御のためのブールの配列を作成\n",
    "cond_data = np.array([True,True,False,False,True])\n",
    "\n",
    "# 配列x_arrayを作成\n",
    "x_array= np.array([1,2,3,4,5])\n",
    "\n",
    "# 配列y_arrayを作成\n",
    "y_array= np.array([100,200,300,400,500])\n",
    "\n",
    "# 条件制御実施\n",
    "print(np.where(cond_data,x_array,y_array))"
   ]
  },
  {
   "cell_type": "markdown",
   "metadata": {},
   "source": [
    "x_arrayからは、配列の0番目（1）、1番目（2）、4番目（5）の数字が取り出され、y_arrayからは、配列の2番目（300）、3番目（400）の数字が取り出されました。\n"
   ]
  },
  {
   "cell_type": "markdown",
   "metadata": {},
   "source": [
    "#### <練習問題 5-1>\n",
    "\n",
    "以下に示す`sample_names`と`data`という2つの配列があるとします。ブールインデックス参照をつかって、`data`から、`sample_names`の`b`に該当するデータを抽出してください。"
   ]
  },
  {
   "cell_type": "code",
   "execution_count": null,
   "metadata": {},
   "outputs": [],
   "source": [
    "# データの準備\n",
    "sample_names = np.array(['a','b','c','d','a'])\n",
    "random.seed(0)\n",
    "data = random.randn(5,5)\n",
    "\n",
    "print(sample_names)\n",
    "print(data)"
   ]
  },
  {
   "cell_type": "markdown",
   "metadata": {},
   "source": [
    "#### <練習問題 5-2>\n",
    "\n",
    "<練習問題 5-1>で使ったデータ`sample_names`と`data`を使って、`data`から、`sample_names`の`c`以外に該当するデータを抽出してください。"
   ]
  },
  {
   "cell_type": "markdown",
   "metadata": {},
   "source": [
    "#### <練習問題 5-3>\n",
    "\n",
    "次の`x_array`、`y_array`があるとき、Numpyの`where`を用いて条件制御し、3番目と4番目は`x_array`から、1番目、2番目、5番目は`y_array`から、それぞれ値を取り出したデータを生成してください。"
   ]
  },
  {
   "cell_type": "code",
   "execution_count": null,
   "metadata": {},
   "outputs": [],
   "source": [
    "x_array= np.array([1,2,3,4,5])\n",
    "y_array= np.array([6,7,8,9,10])"
   ]
  },
  {
   "cell_type": "markdown",
   "metadata": {},
   "source": [
    "### 5.2.2 Numpyの演算処理\n",
    "キーワード：ユニバーサル関数\n",
    "\n",
    "Numpyでは、要素に対して重複を削除したり、すべての要素に対して関数を使った計算を適用したりできます。"
   ]
  },
  {
   "cell_type": "markdown",
   "metadata": {},
   "source": [
    "#### 重複の削除\n",
    "Numpyでは`unique`を使うことで、要素の重複を削除できます。"
   ]
  },
  {
   "cell_type": "code",
   "execution_count": 10,
   "metadata": {
    "scrolled": true
   },
   "outputs": [
    {
     "name": "stdout",
     "output_type": "stream",
     "text": [
      "[ True  True False False  True]\n",
      "[False  True]\n"
     ]
    }
   ],
   "source": [
    "cond_data = np.array([True,True,False,False,True])\n",
    "\n",
    "# cond_dataを表示\n",
    "print(cond_data)\n",
    "\n",
    "# 重複削除\n",
    "print(np.unique(cond_data))"
   ]
  },
  {
   "cell_type": "markdown",
   "metadata": {},
   "source": [
    "#### ユニバーサル関数\n",
    "\n",
    "ユニバーサル関数とは、すべての要素に関数を適用できる機能です。たとえば次のようにすると、すべての要素に対して平方根やネイピア数の指数関数を計算できます。"
   ]
  },
  {
   "cell_type": "code",
   "execution_count": 11,
   "metadata": {},
   "outputs": [
    {
     "name": "stdout",
     "output_type": "stream",
     "text": [
      "元のデータ： [0 1 2 3 4 5 6 7 8 9]\n",
      "すべての要素の平方根： [0.    1.    1.414 1.732 2.    2.236 2.449 2.646 2.828 3.   ]\n",
      "すべての要素のネイピア指数関数： [1.000e+00 2.718e+00 7.389e+00 2.009e+01 5.460e+01 1.484e+02 4.034e+02\n",
      " 1.097e+03 2.981e+03 8.103e+03]\n"
     ]
    }
   ],
   "source": [
    "# ユニバーサル関数\n",
    "sample_data = np.arange(10)\n",
    "print('元のデータ：', sample_data)\n",
    "print('すべての要素の平方根：',np.sqrt(sample_data))\n",
    "print('すべての要素のネイピア指数関数：',np.exp(sample_data))"
   ]
  },
  {
   "cell_type": "markdown",
   "metadata": {},
   "source": [
    "#### 最小、最大、平均、合計の計算\n",
    "\n",
    "2章ではPandasで計算しましたが、Numpyでも次のようにして、最小、最大、平均、合計等の計算ができます。パラメータとして`axis`を指定すると、行や列の指定もできます。"
   ]
  },
  {
   "cell_type": "code",
   "execution_count": 12,
   "metadata": {},
   "outputs": [
    {
     "name": "stdout",
     "output_type": "stream",
     "text": [
      "[[0 1 2]\n",
      " [3 4 5]\n",
      " [6 7 8]]\n",
      "最小値: 0\n",
      "最大値: 8\n",
      "平均: 4.0\n",
      "合計: 36\n",
      "行の合計: [ 3 12 21]\n",
      "列の合計: [ 9 12 15]\n"
     ]
    }
   ],
   "source": [
    "# arangeで9つの要素を持つ配列を生成。reshapeで3行3列の行列に再形成\n",
    "sample_multi_array_data1 = np.arange(9).reshape(3,3)\n",
    "\n",
    "print(sample_multi_array_data1)\n",
    "\n",
    "print('最小値:',sample_multi_array_data1.min())\n",
    "print('最大値:',sample_multi_array_data1.max())\n",
    "print('平均:',sample_multi_array_data1.mean())\n",
    "print('合計:',sample_multi_array_data1.sum())\n",
    "\n",
    "# 行列を指定して合計値を求める\n",
    "print('行の合計:',sample_multi_array_data1.sum(axis=1))\n",
    "print('列の合計:',sample_multi_array_data1.sum(axis=0))"
   ]
  },
  {
   "cell_type": "markdown",
   "metadata": {},
   "source": [
    "#### 真偽値の判定\n",
    "\n",
    "`any`や`all`を使うと、要素の条件判定ができます。\n",
    "`any`はいずれか少なくとも1つ満たすものがあれば`True`、`all`はすべて満たす場合に`True`です。"
   ]
  },
  {
   "cell_type": "markdown",
   "metadata": {},
   "source": [
    "※それぞれ、np.any(cond_data)や、np.all(cond_data) という書き方でも計算できます。"
   ]
  },
  {
   "cell_type": "code",
   "execution_count": 13,
   "metadata": {},
   "outputs": [
    {
     "name": "stdout",
     "output_type": "stream",
     "text": [
      "Trueが少なくとも１つあるかどうか: True\n",
      "すべてTrueかどうか: False\n"
     ]
    }
   ],
   "source": [
    "# 真偽値の配列関数\n",
    "cond_data = np.array([True,True,False,False,True])\n",
    "\n",
    "print('Trueが少なくとも１つあるかどうか:',cond_data.any())\n",
    "print('すべてTrueかどうか:',cond_data.all())"
   ]
  },
  {
   "cell_type": "markdown",
   "metadata": {
    "collapsed": true
   },
   "source": [
    "また、次のように条件を指定してからsumを指定すると、条件に合致する要素の個数を調べられます。"
   ]
  },
  {
   "cell_type": "code",
   "execution_count": 14,
   "metadata": {},
   "outputs": [
    {
     "name": "stdout",
     "output_type": "stream",
     "text": [
      "[[0 1 2]\n",
      " [3 4 5]\n",
      " [6 7 8]]\n",
      "5より大きい数字がいくつあるか: 3\n"
     ]
    }
   ],
   "source": [
    "sample_multi_array_data1 = np.arange(9).reshape(3,3)\n",
    "print(sample_multi_array_data1)\n",
    "print('5より大きい数字がいくつあるか:',(sample_multi_array_data1>5).sum())"
   ]
  },
  {
   "cell_type": "markdown",
   "metadata": {},
   "source": [
    "#### 対角成分の計算\n",
    "行列の対角成分（行列の左上から右下にかけての対角線上に並ぶ成分）や、その和は、次のようにして計算できます。"
   ]
  },
  {
   "cell_type": "code",
   "execution_count": 15,
   "metadata": {},
   "outputs": [
    {
     "name": "stdout",
     "output_type": "stream",
     "text": [
      "[[0 1 2]\n",
      " [3 4 5]\n",
      " [6 7 8]]\n",
      "対角成分: [0 4 8]\n",
      "対角成分の和: 12\n"
     ]
    }
   ],
   "source": [
    "# 行列計算\n",
    "sample_multi_array_data1 = np.arange(9).reshape(3,3)\n",
    "print(sample_multi_array_data1)\n",
    "\n",
    "print('対角成分:',np.diag(sample_multi_array_data1))\n",
    "print('対角成分の和:',np.trace(sample_multi_array_data1))"
   ]
  },
  {
   "cell_type": "markdown",
   "metadata": {},
   "source": [
    "#### <練習問題 5-4>\n",
    "\n",
    "以下のデータに対して、すべての要素の平方根を計算した行列を表示してください。"
   ]
  },
  {
   "cell_type": "code",
   "execution_count": 16,
   "metadata": {},
   "outputs": [
    {
     "data": {
      "text/plain": [
       "array([[ 0,  1,  2,  3],\n",
       "       [ 4,  5,  6,  7],\n",
       "       [ 8,  9, 10, 11],\n",
       "       [12, 13, 14, 15]])"
      ]
     },
     "execution_count": 16,
     "metadata": {},
     "output_type": "execute_result"
    }
   ],
   "source": [
    "sample_multi_array_data2 = np.arange(16).reshape(4,4)\n",
    "sample_multi_array_data2 "
   ]
  },
  {
   "cell_type": "markdown",
   "metadata": {},
   "source": [
    "#### <練習問題 5-5>\n",
    "\n",
    "<練習問題 5-4>のデータ`sample_multi_array_data2`の最大値、最小値、合計値、平均値を求めてください。"
   ]
  },
  {
   "cell_type": "markdown",
   "metadata": {},
   "source": [
    "#### <練習問題 5-6>\n",
    "\n",
    "<練習問題 5-4>のデータ`sample_multi_array_data2`の対角成分の和を求めてください。"
   ]
  },
  {
   "cell_type": "markdown",
   "metadata": {},
   "source": [
    "### 5.2.3 配列操作とブロードキャスト\n",
    "キーワード：再形成、結合と分割、リピート、ブロードキャスト\n",
    "\n",
    "Numpyでは、行列の次元を変更したり、結合や分割などの操作もできます。"
   ]
  },
  {
   "cell_type": "markdown",
   "metadata": {},
   "source": [
    "#### 再形成\n",
    "\n",
    "Numpyでは、行列の次元を変えることを再形成と言います。たとえば、次のようなデータがあるとします。"
   ]
  },
  {
   "cell_type": "code",
   "execution_count": 17,
   "metadata": {},
   "outputs": [
    {
     "data": {
      "text/plain": [
       "array([0, 1, 2, 3, 4, 5, 6, 7, 8, 9])"
      ]
     },
     "execution_count": 17,
     "metadata": {},
     "output_type": "execute_result"
    }
   ],
   "source": [
    "# データの準備\n",
    "sample_array = np.arange(10)\n",
    "sample_array"
   ]
  },
  {
   "cell_type": "markdown",
   "metadata": {},
   "source": [
    "このときたとえば`reshape(2, 5)`のようにすると、2行5列の行列に再形成できます。"
   ]
  },
  {
   "cell_type": "code",
   "execution_count": 18,
   "metadata": {},
   "outputs": [
    {
     "data": {
      "text/plain": [
       "array([[0, 1, 2, 3, 4],\n",
       "       [5, 6, 7, 8, 9]])"
      ]
     },
     "execution_count": 18,
     "metadata": {},
     "output_type": "execute_result"
    }
   ],
   "source": [
    "# 再形成\n",
    "sample_array2 = sample_array.reshape(2,5)\n",
    "sample_array2"
   ]
  },
  {
   "cell_type": "markdown",
   "metadata": {
    "collapsed": true
   },
   "source": [
    "もちろん、次のようにすれば、5行2列の行列を再形成できます。"
   ]
  },
  {
   "cell_type": "code",
   "execution_count": 19,
   "metadata": {},
   "outputs": [
    {
     "data": {
      "text/plain": [
       "array([[0, 1],\n",
       "       [2, 3],\n",
       "       [4, 5],\n",
       "       [6, 7],\n",
       "       [8, 9]])"
      ]
     },
     "execution_count": 19,
     "metadata": {},
     "output_type": "execute_result"
    }
   ],
   "source": [
    "sample_array2.reshape(5,2)"
   ]
  },
  {
   "cell_type": "markdown",
   "metadata": {},
   "source": [
    "#### データの結合\n",
    "`concatenate`を使うと、データを結合できます。パラメータの`axis`で行方向か、縦方向を指定します。\n",
    "\n",
    "##### 行方向の結合\n",
    "次の例は、パラメータの`axis`に0を指定して行方向に結合しています。"
   ]
  },
  {
   "cell_type": "code",
   "execution_count": 20,
   "metadata": {},
   "outputs": [
    {
     "name": "stdout",
     "output_type": "stream",
     "text": [
      "[[1 2 3]\n",
      " [4 5 6]]\n",
      "[[ 7  8  9]\n",
      " [10 11 12]]\n"
     ]
    },
    {
     "data": {
      "text/plain": [
       "array([[ 1,  2,  3],\n",
       "       [ 4,  5,  6],\n",
       "       [ 7,  8,  9],\n",
       "       [10, 11, 12]])"
      ]
     },
     "execution_count": 20,
     "metadata": {},
     "output_type": "execute_result"
    }
   ],
   "source": [
    "#　データの準備\n",
    "sample_array3 = np.array([[1,2,3],[4,5,6]])\n",
    "sample_array4 = np.array([[7,8,9],[10,11,12]])\n",
    "print(sample_array3)\n",
    "print(sample_array4)\n",
    "\n",
    "# 行方向に結合。パラメータのaxisに0を指定\n",
    "np.concatenate([sample_array3,sample_array4],axis=0)"
   ]
  },
  {
   "cell_type": "markdown",
   "metadata": {},
   "source": [
    "行方向の結合は、`vstack`を使ってもできます。"
   ]
  },
  {
   "cell_type": "code",
   "execution_count": 21,
   "metadata": {},
   "outputs": [
    {
     "data": {
      "text/plain": [
       "array([[ 1,  2,  3],\n",
       "       [ 4,  5,  6],\n",
       "       [ 7,  8,  9],\n",
       "       [10, 11, 12]])"
      ]
     },
     "execution_count": 21,
     "metadata": {},
     "output_type": "execute_result"
    }
   ],
   "source": [
    "# vstackを使った行方向結合の方法\n",
    "np.vstack((sample_array3,sample_array4))"
   ]
  },
  {
   "cell_type": "markdown",
   "metadata": {},
   "source": [
    "##### 列方向の結合\n",
    "列方向に結合するときは`axis`に1を設定します。"
   ]
  },
  {
   "cell_type": "code",
   "execution_count": 22,
   "metadata": {},
   "outputs": [
    {
     "data": {
      "text/plain": [
       "array([[ 1,  2,  3,  7,  8,  9],\n",
       "       [ 4,  5,  6, 10, 11, 12]])"
      ]
     },
     "execution_count": 22,
     "metadata": {},
     "output_type": "execute_result"
    }
   ],
   "source": [
    "# 列方向に結合\n",
    "np.concatenate([sample_array3,sample_array4],axis=1)"
   ]
  },
  {
   "cell_type": "markdown",
   "metadata": {},
   "source": [
    "列方向の結合は、`hstack`を使ってもできます。"
   ]
  },
  {
   "cell_type": "code",
   "execution_count": 23,
   "metadata": {},
   "outputs": [
    {
     "data": {
      "text/plain": [
       "array([[ 1,  2,  3,  7,  8,  9],\n",
       "       [ 4,  5,  6, 10, 11, 12]])"
      ]
     },
     "execution_count": 23,
     "metadata": {},
     "output_type": "execute_result"
    }
   ],
   "source": [
    "# 列方向結合の他の方法\n",
    "np.hstack((sample_array3,sample_array4))"
   ]
  },
  {
   "cell_type": "markdown",
   "metadata": {},
   "source": [
    "#### 配列の分割\n",
    "`split`を使うと配列を分割できます。まずは説明のため例として、分割対象のデータ`sample_array_vstack`を用意します。"
   ]
  },
  {
   "cell_type": "code",
   "execution_count": 24,
   "metadata": {},
   "outputs": [
    {
     "data": {
      "text/plain": [
       "array([[ 1,  2,  3],\n",
       "       [ 4,  5,  6],\n",
       "       [ 7,  8,  9],\n",
       "       [10, 11, 12]])"
      ]
     },
     "execution_count": 24,
     "metadata": {},
     "output_type": "execute_result"
    }
   ],
   "source": [
    "# データの用意\n",
    "sample_array3 = np.array([[1,2,3],[4,5,6]])\n",
    "sample_array4 = np.array([[7,8,9],[10,11,12]])\n",
    "sample_array_vstack = np.vstack((sample_array3,sample_array4))\n",
    "# 作成したデータsample_array_vstackを表示\n",
    "sample_array_vstack"
   ]
  },
  {
   "cell_type": "markdown",
   "metadata": {},
   "source": [
    "このデータを`split`で分割します。以下の例では、`split`に`[1, 3]`というパラメータを指定しており、これが分割方法となります。具体的には`~1`（1の手前すべて）、`1~3`（1から3の手前のみ）、`3~`（3以降すべて）のインデックスで取り出すという意味になり、結果として、3つに分割されます。インデックスは0から始まるという点に注意してください。"
   ]
  },
  {
   "cell_type": "code",
   "execution_count": 25,
   "metadata": {},
   "outputs": [],
   "source": [
    "# sample_array_vstackを3つに分割し、first、seocnd、thirdという3つの変数に代入\n",
    "first,second,third=np.split(sample_array_vstack,[1,3])"
   ]
  },
  {
   "cell_type": "code",
   "execution_count": 26,
   "metadata": {},
   "outputs": [
    {
     "name": "stdout",
     "output_type": "stream",
     "text": [
      "[[1 2 3]]\n"
     ]
    }
   ],
   "source": [
    "# firstの表示\n",
    "print(first)"
   ]
  },
  {
   "cell_type": "markdown",
   "metadata": {},
   "source": [
    "firstには、`~1`のインデックス、つまり0番目の値が代入されています。sample_array_vstackは3列4行の2次配列なので、0番目の値は[[1 2 3]]になります。"
   ]
  },
  {
   "cell_type": "code",
   "execution_count": 27,
   "metadata": {},
   "outputs": [
    {
     "name": "stdout",
     "output_type": "stream",
     "text": [
      "[[4 5 6]\n",
      " [7 8 9]]\n"
     ]
    }
   ],
   "source": [
    "# secondの表示\n",
    "print(second)"
   ]
  },
  {
   "cell_type": "code",
   "execution_count": 28,
   "metadata": {},
   "outputs": [
    {
     "data": {
      "text/plain": [
       "array([4, 5, 6])"
      ]
     },
     "execution_count": 28,
     "metadata": {},
     "output_type": "execute_result"
    }
   ],
   "source": [
    "# secondの最初の要素を取り出す\n",
    "second[0]"
   ]
  },
  {
   "cell_type": "code",
   "execution_count": 29,
   "metadata": {},
   "outputs": [
    {
     "name": "stdout",
     "output_type": "stream",
     "text": [
      "[[10 11 12]]\n"
     ]
    }
   ],
   "source": [
    "# thirdの表示\n",
    "print(third)"
   ]
  },
  {
   "cell_type": "markdown",
   "metadata": {},
   "source": [
    "もう1つ例をあげます。新しくデータを追加して、分割した例を見てみましょう。次のような元データがあるとします。"
   ]
  },
  {
   "cell_type": "code",
   "execution_count": 30,
   "metadata": {},
   "outputs": [
    {
     "name": "stdout",
     "output_type": "stream",
     "text": [
      "[[ 1  2  3]\n",
      " [ 4  5  6]\n",
      " [ 7  8  9]\n",
      " [10 11 12]\n",
      " [13 14 15]\n",
      " [16 17 18]\n",
      " [19 20 21]]\n"
     ]
    }
   ],
   "source": [
    "# データの用意\n",
    "sample_array5 = np.array([[13,14,15],[16,17,18],[19,20,21]])\n",
    "sample_array_vstack2 = np.vstack((sample_array3,sample_array4,sample_array5))\n",
    "# 元のデータ\n",
    "print(sample_array_vstack2)"
   ]
  },
  {
   "cell_type": "markdown",
   "metadata": {
    "collapsed": true
   },
   "source": [
    "これを次のように分割します。分割パラメータは[2,3,5]なので、インデックスで2の手前まで（0、1）、3の手前まで（2）、5の手前まで（3～4）、5以降の4つになります。"
   ]
  },
  {
   "cell_type": "code",
   "execution_count": 31,
   "metadata": {},
   "outputs": [
    {
     "name": "stdout",
     "output_type": "stream",
     "text": [
      "・1つ目：\n",
      " [[1 2 3]\n",
      " [4 5 6]] \n",
      "\n",
      "・2つ目：\n",
      " [[7 8 9]] \n",
      "\n",
      "・3つ目：\n",
      " [[10 11 12]\n",
      " [13 14 15]] \n",
      "\n",
      "・4つ目：\n",
      " [[16 17 18]\n",
      " [19 20 21]] \n",
      "\n"
     ]
    }
   ],
   "source": [
    "# sample_array_vstack2を~2,2,3~4,5~の4つに分割し、first、second、third、fourthに代入する\n",
    "first,second,third,fourth=np.split(sample_array_vstack2,[2,3,5])\n",
    "print('・1つ目：\\n',first,'\\n')\n",
    "print('・2つ目：\\n',second,'\\n')\n",
    "print('・3つ目：\\n',third,'\\n')\n",
    "print('・4つ目：\\n',fourth,'\\n')"
   ]
  },
  {
   "cell_type": "markdown",
   "metadata": {},
   "source": [
    "要素を取り出すと以下のようになります。"
   ]
  },
  {
   "cell_type": "code",
   "execution_count": 32,
   "metadata": {},
   "outputs": [
    {
     "data": {
      "text/plain": [
       "array([1, 2, 3])"
      ]
     },
     "execution_count": 32,
     "metadata": {},
     "output_type": "execute_result"
    }
   ],
   "source": [
    "first[0]"
   ]
  },
  {
   "cell_type": "code",
   "execution_count": 33,
   "metadata": {},
   "outputs": [
    {
     "data": {
      "text/plain": [
       "array([4, 5, 6])"
      ]
     },
     "execution_count": 33,
     "metadata": {},
     "output_type": "execute_result"
    }
   ],
   "source": [
    "first[1]"
   ]
  },
  {
   "cell_type": "markdown",
   "metadata": {},
   "source": [
    "#### 繰り返し処理\n",
    "\n",
    "`repeat`を使うと、それぞれの要素を繰り返し生成できます。"
   ]
  },
  {
   "cell_type": "code",
   "execution_count": 34,
   "metadata": {},
   "outputs": [
    {
     "data": {
      "text/plain": [
       "array([1, 1, 1, 1, 1, 2, 2, 2, 2, 2, 3, 3, 3, 3, 3, 4, 4, 4, 4, 4, 5, 5,\n",
       "       5, 5, 5, 6, 6, 6, 6, 6])"
      ]
     },
     "execution_count": 34,
     "metadata": {},
     "output_type": "execute_result"
    }
   ],
   "source": [
    "# repeatを使うと、各要素が指定した回数だけ繰り返されて生成される\n",
    "first.repeat(5)"
   ]
  },
  {
   "cell_type": "markdown",
   "metadata": {},
   "source": [
    "#### ブロードキャスト\n",
    "\n",
    "最後に、**ブロードキャスト**です。これは、配列の大きさが異なっているときに、自動的に要素をコピーして、対象の大きさを揃える機能です。まずは0から9までのデータを準備します。"
   ]
  },
  {
   "cell_type": "code",
   "execution_count": 35,
   "metadata": {},
   "outputs": [
    {
     "name": "stdout",
     "output_type": "stream",
     "text": [
      "[0 1 2 3 4 5 6 7 8 9]\n"
     ]
    }
   ],
   "source": [
    "# データの準備\n",
    "sample_array = np.arange(10)\n",
    "print(sample_array)"
   ]
  },
  {
   "cell_type": "markdown",
   "metadata": {},
   "source": [
    "このデータに対して、次のように「`+3`」をして、配列に3を加えようとしています。このとき、`sample_array + 3`は、片方は配列で、もう片方は配列ではないので、そのままでは計算できません。そこでNumpyでは暗黙的に、要素をコピーして大きさを揃えて、`sample_array + np.array([3,3,3,3,3,3,3,3,3,3])`のように計算します。これがブロードキャストです。"
   ]
  },
  {
   "cell_type": "code",
   "execution_count": 36,
   "metadata": {},
   "outputs": [
    {
     "data": {
      "text/plain": [
       "array([ 3,  4,  5,  6,  7,  8,  9, 10, 11, 12])"
      ]
     },
     "execution_count": 36,
     "metadata": {},
     "output_type": "execute_result"
    }
   ],
   "source": [
    "sample_array + 3"
   ]
  },
  {
   "cell_type": "markdown",
   "metadata": {},
   "source": [
    "以上で、Numpyの話は終了します。Numpyは他のライブラリーのベースとなっており、ここで紹介したテクニック以外にも、色々なデータハンドリングや概念があるので、参考文献「A-10」や参考URL「B-13」などを参考にしてください。"
   ]
  },
  {
   "cell_type": "markdown",
   "metadata": {},
   "source": [
    ">[参考URL]\n",
    ">\n",
    ">Numpy：https://www.numpy.org/devdocs/user/quickstart.html  "
   ]
  },
  {
   "cell_type": "markdown",
   "metadata": {},
   "source": [
    "#### <練習問題 5-7>\n",
    "\n",
    "次の2つの配列を、縦に結合してみましょう。"
   ]
  },
  {
   "cell_type": "code",
   "execution_count": 37,
   "metadata": {},
   "outputs": [],
   "source": [
    "# データの準備\n",
    "sample_array1 = np.arange(12).reshape(3,4)\n",
    "sample_array2 = np.arange(12).reshape(3,4)"
   ]
  },
  {
   "cell_type": "markdown",
   "metadata": {},
   "source": [
    "#### <練習問題 5-8>\n",
    "\n",
    "<練習問題 5-7>の2つの配列に対して、横に結合してみましょう。"
   ]
  },
  {
   "cell_type": "markdown",
   "metadata": {},
   "source": [
    "#### <練習問題 5-9>\n",
    "\n",
    "Pythonにおけるリストの各要素に3を加えるためにはどうすればよいでしょうか。numpyのブロードキャスト機能を使ってください。"
   ]
  },
  {
   "cell_type": "code",
   "execution_count": 38,
   "metadata": {},
   "outputs": [],
   "source": [
    "sample_list = [1,2,3,4,5]"
   ]
  },
  {
   "cell_type": "markdown",
   "metadata": {},
   "source": [
    "***"
   ]
  },
  {
   "cell_type": "markdown",
   "metadata": {},
   "source": [
    "## 5.3 Scipyを使った計算の応用\n",
    "ゴール：Scipyでさまざまな科学計算（補間処理、積分、行列計算など）を知って、実装ができるようになる"
   ]
  },
  {
   "cell_type": "markdown",
   "metadata": {},
   "source": [
    "ここでは科学計算で活用されるScipyの使い方について学びます。補間や行列計算、積分計算、最適化（線形計画法の一部）を扱っていきます。他には高速フーリエ変換、信号処理、画像処理も計算することができます。もし、これらのアプローチを取る機会があれば、ぜひScipyの使用を検討してみてください。なお、冒頭にも述べたように、これらの分野を全く学んでない方は、こんな方法があるんだなと思うだけでよいので、適宜飛ばしてください。\n",
    "\n",
    "参考文献「A-10」や参考URL「B-14」を参考にしてください。"
   ]
  },
  {
   "cell_type": "markdown",
   "metadata": {},
   "source": [
    "### 5.3.1 補間\n",
    "キーワード：線形補間、スプライン補間、interpolate"
   ]
  },
  {
   "cell_type": "markdown",
   "metadata": {},
   "source": [
    "まずは、補間計算から始めます。以下のコードを実行して、グラフを描画してみましょう。"
   ]
  },
  {
   "cell_type": "code",
   "execution_count": 39,
   "metadata": {
    "scrolled": false
   },
   "outputs": [
    {
     "data": {
      "image/png": "[encoded data removed]",
      "text/plain": [
       "<Figure size 432x288 with 1 Axes>"
      ]
     },
     "metadata": {
      "needs_background": "light"
     },
     "output_type": "display_data"
    }
   ],
   "source": [
    "# xとして、linspaceで、開始が0、終了が10、項目が11つの等間隔数列を生成\n",
    "x = np.linspace(0, 10, num=11, endpoint=True)\n",
    "# yの値を生成\n",
    "y = np.cos(-x**2/5.0)\n",
    "plt.plot(x,y,'o')\n",
    "plt.grid(True)"
   ]
  },
  {
   "cell_type": "markdown",
   "metadata": {},
   "source": [
    "左から順に点をたどっていくと、これは何かの曲線を表しているようにも見えます（もちろん、コード見ればわかるように、`cos`の関数を使って描いています。しかし今回はわからないということにしてください）。\n",
    "このようなグラフにおいて、「$x$が4.5のとき」など、実点と実点の間にある$x$に対応する$y$はどのような値になるのでしょうか？　これを考えるのが補間計算です。\n",
    "\n",
    "#### 線形補間\n",
    "Scipyでは、データ間の補間は`interp1d`で計算できます。たとえば、以下では点と点の間を1次式でつないで補間（線形補間）しています。"
   ]
  },
  {
   "cell_type": "code",
   "execution_count": 40,
   "metadata": {},
   "outputs": [
    {
     "data": {
      "image/png": "[encoded data removed]",
      "text/plain": [
       "<Figure size 432x288 with 1 Axes>"
      ]
     },
     "metadata": {
      "needs_background": "light"
     },
     "output_type": "display_data"
    }
   ],
   "source": [
    "from scipy import interpolate\n",
    "\n",
    "# 線形補間。interp1dのパラメータとして「linear」を指定する\n",
    "f = interpolate.interp1d(x, y,'linear')\n",
    "plt.plot(x,f(x),'-')\n",
    "plt.grid(True)"
   ]
  },
  {
   "cell_type": "markdown",
   "metadata": {},
   "source": [
    "#### スプライン3次補完\n",
    "次に、スプライン3次補間も加えて、グラフを見てみましょう。スプライン3次補間は、点と点の間を3次の多項式で補間する手法です。"
   ]
  },
  {
   "cell_type": "code",
   "execution_count": 41,
   "metadata": {},
   "outputs": [
    {
     "data": {
      "image/png": "[encoded data removed]",
      "text/plain": [
       "<Figure size 432x288 with 1 Axes>"
      ]
     },
     "metadata": {
      "needs_background": "light"
     },
     "output_type": "display_data"
    }
   ],
   "source": [
    "# スプライン3次補間を計算してf2として追加する。パラメータに「cubic」を指定する\n",
    "f2 = interpolate.interp1d(x, y,'cubic')\n",
    "\n",
    "#曲線を出すために、xの値を細かくする。\n",
    "xnew = np.linspace(0, 10, num=30, endpoint=True)\n",
    "\n",
    "# グラフ化。fを直線で描き、f2を点線で描く\n",
    "plt.plot(x, y, 'o', xnew, f(xnew), '-', xnew, f2(xnew), '--')\n",
    "\n",
    "# 凡例\n",
    "plt.legend(['data', 'linear', 'cubic'], loc='best')\n",
    "plt.grid(True)"
   ]
  },
  {
   "cell_type": "markdown",
   "metadata": {},
   "source": [
    "ただし、あくまでこの補間した曲線は現在のデータすべてを利用して曲線を引いており、これが新しい未知のデータに対して当てはまるとは限りません。このことは後の機械学習の章で学んでいきます。参考URL「B-15」も参照してください。"
   ]
  },
  {
   "cell_type": "markdown",
   "metadata": {},
   "source": [
    "#### <練習問題 5-10>\n",
    "\n",
    "以下のデータに対して、線形補間の計算をして、グラフを描いてください。"
   ]
  },
  {
   "cell_type": "code",
   "execution_count": 42,
   "metadata": {},
   "outputs": [
    {
     "data": {
      "image/png": "[encoded data removed]",
      "text/plain": [
       "<Figure size 432x288 with 1 Axes>"
      ]
     },
     "metadata": {
      "needs_background": "light"
     },
     "output_type": "display_data"
    }
   ],
   "source": [
    "x = np.linspace(0, 10, num=11, endpoint=True)\n",
    "y = np.sin(x**2/5.0)\n",
    "plt.plot(x,y,'o')\n",
    "plt.grid(True)"
   ]
  },
  {
   "cell_type": "markdown",
   "metadata": {},
   "source": [
    "#### <練習問題 5-11>\n",
    "\n",
    "2次元のスプライン補間（点と点の間を2次の多項式で補間する方法）を使って<練習問題 5-10>のグラフに書き込んでください（2次元のスプライン補間はパラメータを`quadratic`とします）。"
   ]
  },
  {
   "cell_type": "markdown",
   "metadata": {},
   "source": [
    "#### <練習問題 5-12>\n",
    "\n",
    "3次元のスプライン補間も加えてみましょう。"
   ]
  },
  {
   "cell_type": "markdown",
   "metadata": {},
   "source": [
    "### 5.3.2 線形代数：行列の分解\n",
    "キーワード：linalg、特異値分解、LU分解、コレスキー分解"
   ]
  },
  {
   "cell_type": "markdown",
   "metadata": {},
   "source": [
    "ここでは、行列計算の応用を扱っていきます。なお、ここは難しい項目になりますので、大学で線形代数をやっていない方は、スキップしても構いません。\n",
    "\n",
    "#### 特異値分解\n",
    "\n",
    "まずは**特異値分解（singular value decomposition, SVD）**から見ていきましょう。\n"
   ]
  },
  {
   "cell_type": "markdown",
   "metadata": {},
   "source": [
    "ある行列$A$に、別のある行列${x}$をかけたとき、もとの行列のちょうど$λ$倍になるとき、$x$を固有ベクトル、$λ$を固有値と言います。これを式で表すと以下のようになります。\n"
   ]
  },
  {
   "cell_type": "markdown",
   "metadata": {},
   "source": [
    "\\begin{eqnarray}\n",
    "Ax=λx\n",
    "\\end{eqnarray}"
   ]
  },
  {
   "cell_type": "markdown",
   "metadata": {},
   "source": [
    "固有値の計算は、行列$A$が正方行列であることを前提としていますが、特異値分解はこの計算を正方行列ではない行列にも拡張したものと言えます。\n"
   ]
  },
  {
   "cell_type": "markdown",
   "metadata": {},
   "source": [
    "行列Aの特異値分解を式で表すと、"
   ]
  },
  {
   "cell_type": "markdown",
   "metadata": {},
   "source": [
    "\\begin{eqnarray}\n",
    "A = U \\sum V^*\n",
    "\\end{eqnarray}"
   ]
  },
  {
   "cell_type": "markdown",
   "metadata": {},
   "source": [
    "となります。ここで、$A$は$(m,n)$行列で、$V$は$A^*A$（*は共役転置行列を表す）の固有ベクトルを列ベクトルとして並べた行列、$U$は$AA^*$の固有ベクトルを列ベクトルとして並べた行列、$\\sum$は特異値を対角に並べた行列とします。"
   ]
  },
  {
   "cell_type": "markdown",
   "metadata": {},
   "source": [
    "ここで、$AA^*$の固有値は$min(m,n)$であり、それらの正の固有値を$\\sigma^2_i$とした時、固有値の平方根$\\sigma_i$を特異値といいます。\n",
    "\n",
    "参考URL「B-16」も参照してください。"
   ]
  },
  {
   "cell_type": "markdown",
   "metadata": {},
   "source": [
    "具体的に計算をすると以下になります。ちなみに、`@`は行列の積を簡素化するための演算子です（PythonやNumpyのバージョンによっては使えませんが、Jupyter Notebook上では大丈夫です）。"
   ]
  },
  {
   "cell_type": "code",
   "execution_count": 43,
   "metadata": {},
   "outputs": [
    {
     "name": "stdout",
     "output_type": "stream",
     "text": [
      "U.S.V* = \n",
      " [[ 1.  2.  3.  4.  5.]\n",
      " [ 6.  7.  8.  9. 10.]]\n"
     ]
    }
   ],
   "source": [
    "# (2,5)行列\n",
    "A = np.array([[1,2,3,4,5],[6,7,8,9,10]])\n",
    "\n",
    "# 特異値分解の関数linalg.svd\n",
    "U, s, Vs = sp.linalg.svd(A)\n",
    "m, n = A.shape\n",
    "\n",
    "S = sp.linalg.diagsvd(s,m,n)\n",
    "\n",
    "print('U.S.V* = \\n',U@S@Vs)"
   ]
  },
  {
   "cell_type": "markdown",
   "metadata": {},
   "source": [
    "ポイント：ちなみに、この特異値分解は機械学習の章で学ぶリッジ回帰や主成分分析などと関係があります。さらに深層学習を学ぶ上でも行列分解は大事です。この講座では、細かい計算は追いませんが、頭の片隅において置いてください。参考URL「B-17」もご覧ください。"
   ]
  },
  {
   "cell_type": "markdown",
   "metadata": {},
   "source": [
    "#### LU分解\n",
    "次は、**LU分解**です。$A$を正方行列として、$Ax = b$を解く代わりに、$PLUx = b$を解くことで、効率よく解を求めることができるというのがLU分解です。置換行列$P$、対角成分がすべて1の下三角行列$L$、上三角行列$U$を$A = PLU$ となるようにおきます。具体的な計算は次のようになります。"
   ]
  },
  {
   "cell_type": "code",
   "execution_count": 44,
   "metadata": {},
   "outputs": [
    {
     "data": {
      "text/plain": [
       "array([-3.,  4.,  4.,  4.,  4.])"
      ]
     },
     "execution_count": 44,
     "metadata": {},
     "output_type": "execute_result"
    }
   ],
   "source": [
    "#データの準備\n",
    "A = np.identity(5)\n",
    "A[0,:] = 1\n",
    "A[:,0] = 1\n",
    "A[0,0] = 5\n",
    "b = np.ones(5)\n",
    "\n",
    "# 正方行列をLU分解する\n",
    "(LU,piv) = sp.linalg.lu_factor(A)\n",
    "\n",
    "L = np.identity(5) + np.tril(LU,-1)\n",
    "U = np.triu(LU)\n",
    "P = np.identity(5)[piv]\n",
    "\n",
    "# 解を求める\n",
    "x = sp.linalg.lu_solve((LU,piv),b)\n",
    "x"
   ]
  },
  {
   "cell_type": "markdown",
   "metadata": {},
   "source": [
    "#### コレスキー分解\n",
    "次は、**コレスキー分解**です。行列$A$がエルミート行列で正定値の場合に、下三角行列$L$、共役転置$L^*$の積$A=LL^*$に分解するのがコレスキー分解です。方程式は$LL^*x = b$となり、これを解きます。"
   ]
  },
  {
   "cell_type": "code",
   "execution_count": 45,
   "metadata": {},
   "outputs": [
    {
     "name": "stdout",
     "output_type": "stream",
     "text": [
      "[0.758 2.168 1.241 1.863]\n"
     ]
    }
   ],
   "source": [
    "A = np.array([[7, -1, 0, 1],\n",
    "              [-1, 9, -2, 2],\n",
    "              [0, -2, 8, -3],\n",
    "              [1, 2, -3, 10]])\n",
    "b = np.array([5, 20, 0, 20])\n",
    "\n",
    "\n",
    "L = sp.linalg.cholesky(A)\n",
    "\n",
    "t = sp.linalg.solve(L.T.conj(), b)\n",
    "x = sp.linalg.solve(L, t)\n",
    "\n",
    "# 解答\n",
    "print(x)"
   ]
  },
  {
   "cell_type": "code",
   "execution_count": 46,
   "metadata": {},
   "outputs": [
    {
     "data": {
      "text/plain": [
       "array([5.000e+00, 2.000e+01, 2.665e-15, 2.000e+01])"
      ]
     },
     "execution_count": 46,
     "metadata": {},
     "output_type": "execute_result"
    }
   ],
   "source": [
    "# 確認\n",
    "np.dot(A,x)"
   ]
  },
  {
   "cell_type": "markdown",
   "metadata": {},
   "source": [
    "他には、QR分解等も可能です。ここでは割愛しますが、参考URL「B-18」などを参考にしてください。"
   ]
  },
  {
   "cell_type": "markdown",
   "metadata": {},
   "source": [
    "以上でScipyを使った線形代数・行列の分解については終わりになります。\n",
    "\n",
    "なお、行列分解の計算だけを見ていると何の役に立つのかイメージしにくいのですが、実務的には商品のリコメンデーションなどに応用されています（非負値行列因子分解：NMF: Non-negative Matrix Factorizationなど）。\n",
    "\n",
    "購買データを扱う際、1つ1つの購買（バスケット、購買ユーザー）に対して、各購入商品のフラグ付けをして行列にすることが多いのですが、ほとんど疎（スパース）な状態で、そのまま集計・分析をするとあまり意味のある結果が出ないことが多いです。そのため、次元削減するのに行列の分解の結果が使われます。なお、これらに関連する参考書籍としては、参考文献「A-11」があります。"
   ]
  },
  {
   "cell_type": "markdown",
   "metadata": {},
   "source": [
    "ちなみに、非負値行列因子分解は、ある行列$X$を$X≒WH$と近似した時に、その近似後の行列$W$、$H$の要素が全部正になるようにするもおのです。以下の例はScikit-learnの`decomposition`を使って計算しています。"
   ]
  },
  {
   "cell_type": "code",
   "execution_count": 47,
   "metadata": {},
   "outputs": [],
   "source": [
    "# NMFを使います\n",
    "from sklearn.decomposition import NMF\n",
    "\n",
    "# 分解対象行列\n",
    "X = np.array([[1,1,1], [2,2,2],[3,3,3], [4,4,4]])\n",
    "\n",
    "model = NMF(n_components=2, init='random', random_state=0)\n",
    "\n",
    "W = model.fit_transform(X)\n",
    "H = model.components_"
   ]
  },
  {
   "cell_type": "code",
   "execution_count": 48,
   "metadata": {},
   "outputs": [
    {
     "data": {
      "text/plain": [
       "array([[0.425, 0.222],\n",
       "       [0.698, 0.537],\n",
       "       [0.039, 1.434],\n",
       "       [2.377, 0.463]])"
      ]
     },
     "execution_count": 48,
     "metadata": {},
     "output_type": "execute_result"
    }
   ],
   "source": [
    "W"
   ]
  },
  {
   "cell_type": "code",
   "execution_count": 49,
   "metadata": {},
   "outputs": [
    {
     "data": {
      "text/plain": [
       "array([[1.281, 1.281, 1.282],\n",
       "       [2.058, 2.058, 2.058]])"
      ]
     },
     "execution_count": 49,
     "metadata": {},
     "output_type": "execute_result"
    }
   ],
   "source": [
    "H"
   ]
  },
  {
   "cell_type": "code",
   "execution_count": 50,
   "metadata": {},
   "outputs": [
    {
     "data": {
      "text/plain": [
       "array([[1., 1., 1.],\n",
       "       [2., 2., 2.],\n",
       "       [3., 3., 3.],\n",
       "       [4., 4., 4.]])"
      ]
     },
     "execution_count": 50,
     "metadata": {},
     "output_type": "execute_result"
    }
   ],
   "source": [
    "np.dot(W, H) #W@Hでもよい"
   ]
  },
  {
   "cell_type": "markdown",
   "metadata": {},
   "source": [
    "#### <練習問題 5-13>\n",
    "以下の行列に対して、特異値分解をしてください。"
   ]
  },
  {
   "cell_type": "code",
   "execution_count": 51,
   "metadata": {},
   "outputs": [
    {
     "data": {
      "text/plain": [
       "array([[ 1,  2,  3],\n",
       "       [ 4,  5,  6],\n",
       "       [ 7,  8,  9],\n",
       "       [10, 11, 12]])"
      ]
     },
     "execution_count": 51,
     "metadata": {},
     "output_type": "execute_result"
    }
   ],
   "source": [
    "B = np.array([[1,2,3],[4,5,6],[7,8,9],[10,11,12]])\n",
    "B"
   ]
  },
  {
   "cell_type": "markdown",
   "metadata": {},
   "source": [
    "#### <練習問題 5-14>\n",
    "以下の行列に対して、LU分解をして、$Ax=b$の方程式を解いてください。"
   ]
  },
  {
   "cell_type": "code",
   "execution_count": 52,
   "metadata": {
    "scrolled": true
   },
   "outputs": [
    {
     "name": "stdout",
     "output_type": "stream",
     "text": [
      "[[1. 0. 0.]\n",
      " [0. 1. 0.]\n",
      " [0. 0. 1.]]\n",
      "[[3. 1. 1.]\n",
      " [1. 1. 0.]\n",
      " [1. 0. 1.]]\n",
      "[1. 1. 1.]\n"
     ]
    }
   ],
   "source": [
    "#データの準備\n",
    "A = np.identity(3)\n",
    "print(A)\n",
    "A[0,:] = 1\n",
    "A[:,0] = 1\n",
    "A[0,0] = 3\n",
    "b = np.ones(3)\n",
    "print(A)\n",
    "print(b)"
   ]
  },
  {
   "cell_type": "markdown",
   "metadata": {},
   "source": [
    "### 5.3.3 積分と微分方程式\n",
    "キーワード：数値積分、微分方程式、integrate\n",
    "\n",
    "次に、積分計算や微分方程式を解く方法について説明します。"
   ]
  },
  {
   "cell_type": "markdown",
   "metadata": {},
   "source": [
    "#### 積分計算\n",
    "\n",
    "まずは積分計算から始めます。Scipyを使えば、たとえば、次の（数値）積分を求めることができます。"
   ]
  },
  {
   "cell_type": "markdown",
   "metadata": {},
   "source": [
    "\\begin{eqnarray}\n",
    "  \\int_0^1 \\frac{4}{1+x^2} dx\n",
    "\\end{eqnarray}"
   ]
  },
  {
   "cell_type": "markdown",
   "metadata": {},
   "source": [
    "これは実際は$\\pi$（3.14..）に等しいですが、以下のコードで確かめていきましょう。積分計算は、`integrate.quad`を使います。"
   ]
  },
  {
   "cell_type": "code",
   "execution_count": 53,
   "metadata": {},
   "outputs": [],
   "source": [
    "# 積分計算\n",
    "from scipy import integrate\n",
    "import math"
   ]
  },
  {
   "cell_type": "markdown",
   "metadata": {},
   "source": [
    "次に、いま提示した関数を次のように定義します。"
   ]
  },
  {
   "cell_type": "code",
   "execution_count": 54,
   "metadata": {},
   "outputs": [],
   "source": [
    "def calcPi(x):\n",
    "    return 4/(1+x**2)"
   ]
  },
  {
   "cell_type": "markdown",
   "metadata": {},
   "source": [
    "計算するためには`integrate.quad`を使います。`integrate.quad`の1つ目の引数には、積分したい関数を指定します。そして2つ目と3つ目の引数には、積分範囲を設定します。"
   ]
  },
  {
   "cell_type": "code",
   "execution_count": 55,
   "metadata": {},
   "outputs": [
    {
     "data": {
      "text/plain": [
       "(3.142, 0.000)"
      ]
     },
     "execution_count": 55,
     "metadata": {},
     "output_type": "execute_result"
    }
   ],
   "source": [
    "# 計算結果と推定誤差\n",
    "integrate.quad(calcPi, 0, 1)"
   ]
  },
  {
   "cell_type": "markdown",
   "metadata": {},
   "source": [
    "以下は同じ処理を無名関数を使って実行するものです。"
   ]
  },
  {
   "cell_type": "code",
   "execution_count": 56,
   "metadata": {},
   "outputs": [
    {
     "data": {
      "text/plain": [
       "(3.142, 0.000)"
      ]
     },
     "execution_count": 56,
     "metadata": {},
     "output_type": "execute_result"
    }
   ],
   "source": [
    "# 無名関数で書くことも可能\n",
    "integrate.quad(lambda x: 4/(1+x**2), 0, 1)"
   ]
  },
  {
   "cell_type": "markdown",
   "metadata": {},
   "source": [
    "どちらもほぼ3.14になっているのがわかると思います。"
   ]
  },
  {
   "cell_type": "markdown",
   "metadata": {},
   "source": [
    "#### sin関数を求める例\n",
    "\n",
    "もうひとつの例として、sin関数も求めてみましょう。"
   ]
  },
  {
   "cell_type": "code",
   "execution_count": 57,
   "metadata": {},
   "outputs": [
    {
     "data": {
      "text/plain": [
       "(2.000, 0.000)"
      ]
     },
     "execution_count": 57,
     "metadata": {},
     "output_type": "execute_result"
    }
   ],
   "source": [
    "from numpy import sin\n",
    "integrate.quad(sin, 0, math.pi/1)"
   ]
  },
  {
   "cell_type": "markdown",
   "metadata": {},
   "source": [
    "2重積分も計算できます。"
   ]
  },
  {
   "cell_type": "markdown",
   "metadata": {},
   "source": [
    "\\begin{eqnarray*}\n",
    "  && \\int_0^\\infty \\!\\!\\! \\int_1^\\infty \\frac{\\mathrm{e}^{-xt}}{t^n}  dtdx \\\\\n",
    "  && \n",
    "\\end{eqnarray*}"
   ]
  },
  {
   "cell_type": "markdown",
   "metadata": {},
   "source": [
    "もちろんこれも手計算で実施可能で、$\\frac{1}{n}$になりますが、`integrate.dblquad`を使って、確かめましょう。ただし、コンピューターの数値計算なので、前と同様に完全に一致することはなく、誤差が生じます。"
   ]
  },
  {
   "cell_type": "code",
   "execution_count": 58,
   "metadata": {},
   "outputs": [],
   "source": [
    "# 2重積分\n",
    "def I(n):\n",
    "    return integrate.dblquad(lambda t, x: np.exp(-x*t)/t**n, 0, np.inf, lambda x: 1, lambda x: np.inf)"
   ]
  },
  {
   "cell_type": "code",
   "execution_count": 59,
   "metadata": {},
   "outputs": [
    {
     "name": "stdout",
     "output_type": "stream",
     "text": [
      "n=1の時: (1.0000000000048965, 6.360750360104306e-08)\n",
      "n=2の時: (0.4999999999985751, 1.3894083651858995e-08)\n",
      "n=3の時: (0.33333333325010883, 1.3888461883425516e-08)\n",
      "n=4の時: (0.2500000000043577, 1.2983033469368098e-08)\n"
     ]
    }
   ],
   "source": [
    "print('n=1の時:',I(1))\n",
    "print('n=2の時:',I(2))\n",
    "print('n=3の時:',I(3))\n",
    "print('n=4の時:',I(4))"
   ]
  },
  {
   "cell_type": "markdown",
   "metadata": {},
   "source": [
    "#### 微分方程式の計算\n",
    "\n",
    "参考ですが、さらに、Scipyを使って微分方程式も計算できます。以下は、カオス理論で有名なローレンツ方程式です。"
   ]
  },
  {
   "cell_type": "markdown",
   "metadata": {},
   "source": [
    "\\begin{eqnarray}\n",
    "\\frac{dx}{dt} &=& - px + py \\\\\n",
    "\\frac{dy}{dt} &=& -xz+ rx -y \\\\\n",
    "\\frac{dz}{dt} &=& xy - bz\n",
    "\\end{eqnarray}"
   ]
  },
  {
   "cell_type": "markdown",
   "metadata": {},
   "source": [
    "\n",
    "これらをpythonで表すと以下のようになります。ここで、`v`はベクトルを表しており、ローレンツ方程式の$x, y, z$がそれぞれ`v[0], v[1], [v2]`に対応しています。\n"
   ]
  },
  {
   "cell_type": "code",
   "execution_count": 60,
   "metadata": {},
   "outputs": [],
   "source": [
    "# モジュールの読み込み\n",
    "import numpy as np\n",
    "from scipy.integrate import odeint\n",
    "import matplotlib.pyplot as plt\n",
    "from mpl_toolkits.mplot3d import Axes3D\n",
    "\n",
    "# ローレンツ方程式\n",
    "def lorenz_func(v, t, p, r, b):\n",
    "    return [-p*v[0]+p*v[1], -v[0]*v[2]+r*v[0]-v[1], v[0]*v[1]-b*v[2]]"
   ]
  },
  {
   "cell_type": "markdown",
   "metadata": {},
   "source": [
    "\n",
    "続いて、`lorenz_func`にローレンツが論文で与えたパラメータ$p = 10$、$r = 28$、$b = 8/3$ を代入して微分方程式を解いてグラフ化します。微分方程式は`odeint`で解くことができます。\n"
   ]
  },
  {
   "cell_type": "code",
   "execution_count": 61,
   "metadata": {},
   "outputs": [
    {
     "data": {
      "image/png": "[encoded data removed]",
      "text/plain": [
       "<Figure size 432x288 with 1 Axes>"
      ]
     },
     "metadata": {
      "needs_background": "light"
     },
     "output_type": "display_data"
    }
   ],
   "source": [
    "# パラメータの設定\n",
    "p = 10\n",
    "r = 28\n",
    "b = 8/3\n",
    "v0 = [0.1, 0.1, 0.1]\n",
    "t = np.arange(0, 100, 0.01)\n",
    "\n",
    "# 関数の呼び出し\n",
    "v = odeint(lorenz_func, v0, t, args=(p, r, b))\n",
    "\n",
    "# 可視化\n",
    "fig = plt.figure()\n",
    "ax = fig.gca(projection='3d')\n",
    "ax.plot(v[:, 0], v[:, 1], v[:, 2])\n",
    "\n",
    "# ラベルなど\n",
    "plt.title('Lorenz')\n",
    "plt.grid(True)"
   ]
  },
  {
   "cell_type": "markdown",
   "metadata": {},
   "source": [
    "\n",
    "すると、解は三次元空間に不規則な軌跡を描くことがわかりました。この節で行った内容については、参考URL「B-19」や「B-20」なども参考にしてください。"
   ]
  },
  {
   "cell_type": "markdown",
   "metadata": {},
   "source": [
    "#### <練習問題 5-15>\n",
    "以下の積分を求めてみましょう。"
   ]
  },
  {
   "cell_type": "markdown",
   "metadata": {},
   "source": [
    "\\begin{eqnarray}\n",
    "  \\int_0^2 (x+1)^2 dx\n",
    "\\end{eqnarray}"
   ]
  },
  {
   "cell_type": "markdown",
   "metadata": {},
   "source": [
    "#### <練習問題 5-16>\n",
    "cos関数の範囲$(0,\\pi)$の積分を求めてみましょう。"
   ]
  },
  {
   "cell_type": "markdown",
   "metadata": {},
   "source": [
    "### 5.3.4 最適化\n",
    "キーワード：最適化、二分法、ブレント法、ニュートン法、optimize"
   ]
  },
  {
   "cell_type": "markdown",
   "metadata": {},
   "source": [
    "最後に、最適化計算（線形計画法）のメソッドについて学びましょう。また、方程式の解を求める処理も紹介していきます。最適化計算は、`optimize`を使いますのでインポートしています。"
   ]
  },
  {
   "cell_type": "code",
   "execution_count": 62,
   "metadata": {},
   "outputs": [],
   "source": [
    "from scipy.optimize import fsolve"
   ]
  },
  {
   "cell_type": "markdown",
   "metadata": {},
   "source": [
    "#### 2次関数の最適化\n",
    "\n",
    "まずは、具体例として次の2次関数について、$f(x)$が0になる$x$を考えてみましょう。もちろん、解の公式で解くことができますが、Scipyの`optimize`の使い方を覚えるために、`optimize`を使って解いてみます。"
   ]
  },
  {
   "cell_type": "markdown",
   "metadata": {},
   "source": [
    "\\begin{eqnarray*}\n",
    "\\ f(x) = 2x^2 + 2x -10\n",
    "\\end{eqnarray*}"
   ]
  },
  {
   "cell_type": "markdown",
   "metadata": {},
   "source": [
    "該当の関数を以下のように定義します。"
   ]
  },
  {
   "cell_type": "code",
   "execution_count": 63,
   "metadata": {},
   "outputs": [],
   "source": [
    "def f(x):\n",
    "    y = 2 * x**2 + 2 * x - 10\n",
    "    return y"
   ]
  },
  {
   "cell_type": "markdown",
   "metadata": {},
   "source": [
    "グラフ化してみましょう。"
   ]
  },
  {
   "cell_type": "code",
   "execution_count": 64,
   "metadata": {},
   "outputs": [
    {
     "data": {
      "image/png": "[encoded data removed]",
      "text/plain": [
       "<Figure size 432x288 with 1 Axes>"
      ]
     },
     "metadata": {
      "needs_background": "light"
     },
     "output_type": "display_data"
    }
   ],
   "source": [
    "# グラフ化してみる\n",
    "x = np.linspace(-4,4)\n",
    "plt.plot(x,f(x))\n",
    "plt.plot(x,np.zeros(len(x)))\n",
    "plt.grid(True)"
   ]
  },
  {
   "cell_type": "markdown",
   "metadata": {},
   "source": [
    "グラフから解は2と-3付近にあることがわかりますので、以下のような計算をさせると、解を算出してくれます。"
   ]
  },
  {
   "cell_type": "code",
   "execution_count": 65,
   "metadata": {},
   "outputs": [
    {
     "name": "stdout",
     "output_type": "stream",
     "text": [
      "[1.791]\n"
     ]
    }
   ],
   "source": [
    "# x = 2 付近\n",
    "x = fsolve(f,2)\n",
    "print(x)"
   ]
  },
  {
   "cell_type": "code",
   "execution_count": 66,
   "metadata": {},
   "outputs": [
    {
     "name": "stdout",
     "output_type": "stream",
     "text": [
      "[-2.791]\n"
     ]
    }
   ],
   "source": [
    "# x = -3 付近\n",
    "x = fsolve(f,-3)\n",
    "print(x)"
   ]
  },
  {
   "cell_type": "markdown",
   "metadata": {},
   "source": [
    "#### 最適化問題を解く\n",
    "\n",
    "では、次の最適化問題を考えてみましょう。式の中にある$s.t.$はsubject toのことです。"
   ]
  },
  {
   "cell_type": "markdown",
   "metadata": {},
   "source": [
    "\\begin{eqnarray*}\n",
    "\\min x_1x_4(x_1+x_2+x_3)+x_3 \n",
    "\\\\\n",
    "s.t. \\ x_1x_2x_3x_4 \\ge 25\n",
    "\\\\\n",
    "1\\le x_1,x_2,x_3,x_4 \\le 5\n",
    "\\\\\n",
    "x_0 = (1,5,5,1)\n",
    "\\\\\n",
    "40-(x_1^2+ x_2^2+ x_3^2+ x_4^2) \\ge 0\n",
    "\\end{eqnarray*}"
   ]
  },
  {
   "cell_type": "markdown",
   "metadata": {},
   "source": [
    "上記は、$min$の後に書いてある関数を最小化するのですが、$s.t.$の後に条件式がいくつか書いてあります。これらの条件のもとで、最小値を求めていきます。$minimize$を使うため、次のようにインポートします。"
   ]
  },
  {
   "cell_type": "code",
   "execution_count": 67,
   "metadata": {},
   "outputs": [],
   "source": [
    "from scipy.optimize import minimize"
   ]
  },
  {
   "cell_type": "markdown",
   "metadata": {},
   "source": [
    "次に、目的となる関数\n",
    "\n",
    "\\begin{eqnarray*}x_1x_4(x_1+x_2+x_3)+x_3 \\end{eqnarray*}\n",
    "\n",
    "を下記のように定義します。"
   ]
  },
  {
   "cell_type": "code",
   "execution_count": 68,
   "metadata": {},
   "outputs": [],
   "source": [
    "# 目的となる関数\n",
    "def objective(x):\n",
    "    x1 = x[0]\n",
    "    x2 = x[1]\n",
    "    x3 = x[2]\n",
    "    x4 = x[3]\n",
    "    return x1*x4*(x1+x2+x3)+x3"
   ]
  },
  {
   "cell_type": "markdown",
   "metadata": {},
   "source": [
    "次に、$s.t.$以下にある制約条件をそれぞれコーディングします。"
   ]
  },
  {
   "cell_type": "code",
   "execution_count": 69,
   "metadata": {},
   "outputs": [],
   "source": [
    "# 制約式その1\n",
    "def constraint1(x):\n",
    "    return x[0]*x[1]*x[2]*x[3]-25.0\n",
    "\n",
    "# 制約式その2\n",
    "def constraint2(x):\n",
    "    sum_sq = 40\n",
    "    for i in range(4):\n",
    "        sum_sq = sum_sq - x[i]**2\n",
    "    return sum_sq"
   ]
  },
  {
   "cell_type": "code",
   "execution_count": 70,
   "metadata": {},
   "outputs": [
    {
     "name": "stdout",
     "output_type": "stream",
     "text": [
      "16\n"
     ]
    }
   ],
   "source": [
    "# 初期値\n",
    "x0 = [1,5,5,1]\n",
    "print(objective(x0))"
   ]
  },
  {
   "cell_type": "markdown",
   "metadata": {},
   "source": [
    "`minimize`を使うため、以下のように変数を作成します。`type`が`ineq`だったり、`fun`が`constrain1`だったりしますが、各パラメータは上の初めの式を見ながら意味を理解してください。"
   ]
  },
  {
   "cell_type": "code",
   "execution_count": 71,
   "metadata": {},
   "outputs": [],
   "source": [
    "b = (1.0,5.0)\n",
    "bnds = (b,b,b,b)\n",
    "con1 = {'type':'ineq','fun':constraint1}\n",
    "con2 = {'type':'ineq','fun':constraint2}\n",
    "cons = [con1,con2]"
   ]
  },
  {
   "cell_type": "markdown",
   "metadata": {},
   "source": [
    "以上で準備が整ったので、最適化計算を実行します。実行には、次のように`minimize`を使います。1つ目の引数には、対象となる関数を設定し、それ以降の引数で条件式等を設定します。なお、`method`に指定している「SLSQP」はSequential Least SQuares Programmingの略で、逐次二次計画法と言う意味です。"
   ]
  },
  {
   "cell_type": "code",
   "execution_count": 72,
   "metadata": {},
   "outputs": [],
   "source": [
    "sol = minimize(objective,x0,method='SLSQP',bounds=bnds,constraints=cons)"
   ]
  },
  {
   "cell_type": "code",
   "execution_count": 73,
   "metadata": {},
   "outputs": [
    {
     "name": "stdout",
     "output_type": "stream",
     "text": [
      "     fun: 17.01401724549506\n",
      "     jac: array([14.572,  1.379,  2.379,  9.564])\n",
      " message: 'Optimization terminated successfully.'\n",
      "    nfev: 30\n",
      "     nit: 5\n",
      "    njev: 5\n",
      "  status: 0\n",
      " success: True\n",
      "       x: array([1.   , 4.743, 3.821, 1.379])\n"
     ]
    }
   ],
   "source": [
    "print(sol)"
   ]
  },
  {
   "cell_type": "markdown",
   "metadata": {},
   "source": [
    "以上の結果からわかるように、$x$が以下のような値をとるときに、関数は約17という最小値を取ることがわかりました。"
   ]
  },
  {
   "cell_type": "code",
   "execution_count": 74,
   "metadata": {},
   "outputs": [
    {
     "name": "stdout",
     "output_type": "stream",
     "text": [
      "Y: 17.01401724549506\n",
      "X: [1.    4.743 3.821 1.379]\n"
     ]
    }
   ],
   "source": [
    "print('Y:',sol.fun)\n",
    "print('X:',sol.x)"
   ]
  },
  {
   "cell_type": "markdown",
   "metadata": {},
   "source": [
    "これで、Scipyの話は終了です。お疲れ様でした。\n",
    "これらの概念をはじめて見た方には難しかったかもしれませんが、この章で扱った計算以外にもたくさんの科学的な計算方法（`fft`、統計関数`stats`、デジタル信号のフィルタなど）があります。\n",
    "上記で紹介したサイトや、以下のレクチャーノート（NumpyやMatplotlibも含む）などを参考にしてください。\n",
    "\n",
    "参考URL「B-21」もご覧ください。"
   ]
  },
  {
   "cell_type": "markdown",
   "metadata": {},
   "source": [
    "次の章では、Pandasを用いたデータハンドリングについてさらに学んでいきましょう。"
   ]
  },
  {
   "cell_type": "markdown",
   "metadata": {},
   "source": [
    "#### <練習問題 5-17>\n",
    "Sicpyを用いて、以下の関数が0となる解を求めましょう。"
   ]
  },
  {
   "cell_type": "markdown",
   "metadata": {},
   "source": [
    "\\begin{eqnarray*}\n",
    "\\ f(x) = 5x -10\n",
    "\\end{eqnarray*}"
   ]
  },
  {
   "cell_type": "markdown",
   "metadata": {},
   "source": [
    "#### <練習問題 5-18>\n",
    "以下の関数が0となる解を求めましょう。"
   ]
  },
  {
   "cell_type": "markdown",
   "metadata": {},
   "source": [
    "\\begin{eqnarray*}\n",
    "\\ f(x) = x^3 - 2x^2 - 11x +12\n",
    "\\end{eqnarray*}"
   ]
  },
  {
   "cell_type": "markdown",
   "metadata": {},
   "source": [
    "## 5.4 総合問題"
   ]
  },
  {
   "cell_type": "markdown",
   "metadata": {},
   "source": [
    "### ■総合問題5-1 コレスキー分解"
   ]
  },
  {
   "cell_type": "markdown",
   "metadata": {},
   "source": [
    "以下の行列に対して、コレスキー分解を活用して、$Ax=b$の方程式を解いてください。"
   ]
  },
  {
   "cell_type": "code",
   "execution_count": 75,
   "metadata": {},
   "outputs": [],
   "source": [
    "A = np.array([[5, 1, 0, 1],\n",
    "              [1, 9, -5, 7],\n",
    "              [0, -5, 8, -3],\n",
    "              [1, 7, -3, 10]])\n",
    "b = np.array([2, 10, 5, 10])"
   ]
  },
  {
   "cell_type": "markdown",
   "metadata": {},
   "source": [
    "### ■総合問題5-2 積分"
   ]
  },
  {
   "cell_type": "markdown",
   "metadata": {},
   "source": [
    "$0≤ x ≤ 1$、$0≤y≤1−x$ の三角領域で定義される以下の関数の積分値を求めてみましょう。\n",
    "\\begin{eqnarray}\n",
    "  \\int_0^1 \\int_0^{1-x} 1/(\\sqrt{(x+y)}(1+x+y)^2) dy dx \n",
    "\\end{eqnarray}\n"
   ]
  },
  {
   "cell_type": "markdown",
   "metadata": {},
   "source": [
    "### ■総合問題5-3 最適化問題"
   ]
  },
  {
   "cell_type": "markdown",
   "metadata": {},
   "source": [
    "以下の最適化問題をSicpyを使って解いてみましょう。"
   ]
  },
  {
   "cell_type": "markdown",
   "metadata": {},
   "source": [
    "\\begin{eqnarray*}\n",
    "\\ min \\ f(x) = x^2+1\n",
    "\\\\  s.t. x \\ge -1\n",
    "\\end{eqnarray*}"
   ]
  }
 ],
 "metadata": {
  "anaconda-cloud": {},
  "kernelspec": {
   "display_name": "Python 3",
   "language": "python",
   "name": "python3"
  },
  "language_info": {
   "codemirror_mode": {
    "name": "ipython",
    "version": 3
   },
   "file_extension": ".py",
   "mimetype": "text/x-python",
   "name": "python",
   "nbconvert_exporter": "python",
   "pygments_lexer": "ipython3",
   "version": "3.6.8"
  }
 },
 "nbformat": 4,
 "nbformat_minor": 1
}
